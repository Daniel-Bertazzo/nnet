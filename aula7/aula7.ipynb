{
 "cells": [
  {
   "cell_type": "markdown",
   "metadata": {},
   "source": [
    "# SCC0270 - Redes Neurais e Aprendizado Profundo\n",
    "### Aula 7 - Prática (Redes neurais convolutivas)\n",
    "**Daniel Penna Chaves Bertazzo - 10349561**"
   ]
  },
  {
   "cell_type": "markdown",
   "metadata": {},
   "source": [
    "# Exercício 1\n",
    "A função de ativação *softmax* é dada pela seguinte fórmula:\n",
    "<br>\n",
    "$$ S(y_i) = \\frac{e^{y_i}} {\\sum_{j=1}^{K} e^{y_j}} $$\n",
    "<br>\n",
    "onde $K$ é o número de classes presentes no *dataset*. Tal função de ativação possui como entrada um vetor de $K$ elementos ($\\in \\mathbb{R}$) e o normaliza para uma distribuição de probabilidade (outro vetor com $K$ elementos, onde cada elemento representa uma probabilidade proporcional aos exponenciais dos valores de entrada). No contexto de redes neurais, é normalmente utilizada na camada de saída, pois pega como entrada os valores gerados pelas ativações dos neurônios da penúltima camada e os transforma em um vetor onde cada $S(y_i)$ representa a probabilidade da classe $i$ ser a predição correta para aquela instância do *dataset*. Por exemplo:\n",
    "<br>\n",
    "Suponha que possuímos um *dataset* com 3 classes diferentes e uma rede neural corretamente treinada para prever corretamente a classe de uma dada instância. Ao fornecer à rede tal exemplo, suponha que ela tenha como resultado o vetor:\n",
    "<br><br>\n",
    "$$ \\begin{bmatrix} {0.02 \\\\\n",
    "                    0.98 \\\\\n",
    "                    0.00} \\end{bmatrix} $$\n",
    "<br>\n",
    "onde cada linha representa uma classe $y$. Nesse caso, temos que\n",
    "* $P(y=1) = 2\\%$\n",
    "* $P(y=2) = 98\\%$\n",
    "* $P(y=3) = 0\\%$\n",
    "<br>\n",
    "Logo, de acordo com o modelo, a instância em questão tem 98% de probabilidade de ser da classe 2, sendo classificada como tal."
   ]
  },
  {
   "cell_type": "code",
   "execution_count": null,
   "metadata": {},
   "outputs": [],
   "source": [
    "import tensorflow as tf\n",
    "import tensorflow.keras as keras"
   ]
  },
  {
   "cell_type": "code",
   "execution_count": null,
   "metadata": {},
   "outputs": [],
   "source": [
    "# Carrega o dataset\n",
    "(X_train, y_train), (X_test, y_test) = tf.keras.datasets.mnist.load_data()"
   ]
  },
  {
   "cell_type": "code",
   "execution_count": null,
   "metadata": {},
   "outputs": [],
   "source": [
    "X_train.shape"
   ]
  }
 ],
 "metadata": {
  "kernelspec": {
   "display_name": "Python 3",
   "language": "python",
   "name": "python3"
  },
  "language_info": {
   "codemirror_mode": {
    "name": "ipython",
    "version": 3
   },
   "file_extension": ".py",
   "mimetype": "text/x-python",
   "name": "python",
   "nbconvert_exporter": "python",
   "pygments_lexer": "ipython3",
   "version": "3.7.6"
  }
 },
 "nbformat": 4,
 "nbformat_minor": 4
}
