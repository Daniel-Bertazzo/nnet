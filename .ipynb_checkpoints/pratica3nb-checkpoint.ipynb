{
 "cells": [
  {
   "cell_type": "code",
   "execution_count": 16,
   "metadata": {},
   "outputs": [],
   "source": [
    "import pandas as pd\n",
    "import numpy as np\n",
    "from sklearn.model_selection import train_test_split\n",
    "from sklearn.neural_network import MLPClassifier"
   ]
  },
  {
   "cell_type": "code",
   "execution_count": 10,
   "metadata": {},
   "outputs": [],
   "source": [
    "# Le o dataset\n",
    "df = pd.read_csv(\"Dataset_3Cluster_4features.csv\")"
   ]
  },
  {
   "cell_type": "code",
   "execution_count": 21,
   "metadata": {},
   "outputs": [],
   "source": [
    "# Faz a divisao em conjunto de treino e conjunto de validacao\n",
    "# 70% do dataset e' utilizado para treino\n",
    "training_set, validation_set = train_test_split(df, test_size=0.3)"
   ]
  },
  {
   "cell_type": "code",
   "execution_count": 40,
   "metadata": {},
   "outputs": [],
   "source": [
    "# Divide o conjunto de treinamento em entrada e saida\n",
    "X_train = training_set.iloc[:, :-1]    # Dados de entrada\n",
    "y_train = training_set.iloc[:, -1]     # Saida (label) esperada"
   ]
  },
  {
   "cell_type": "code",
   "execution_count": 39,
   "metadata": {},
   "outputs": [
    {
     "data": {
      "text/html": [
       "<div>\n",
       "<style scoped>\n",
       "    .dataframe tbody tr th:only-of-type {\n",
       "        vertical-align: middle;\n",
       "    }\n",
       "\n",
       "    .dataframe tbody tr th {\n",
       "        vertical-align: top;\n",
       "    }\n",
       "\n",
       "    .dataframe thead th {\n",
       "        text-align: right;\n",
       "    }\n",
       "</style>\n",
       "<table border=\"1\" class=\"dataframe\">\n",
       "  <thead>\n",
       "    <tr style=\"text-align: right;\">\n",
       "      <th></th>\n",
       "      <th>V1</th>\n",
       "      <th>V2</th>\n",
       "      <th>V3</th>\n",
       "      <th>V4</th>\n",
       "    </tr>\n",
       "  </thead>\n",
       "  <tbody>\n",
       "    <tr>\n",
       "      <th>169</th>\n",
       "      <td>0.156379</td>\n",
       "      <td>0.123832</td>\n",
       "      <td>0.203799</td>\n",
       "      <td>0.155493</td>\n",
       "    </tr>\n",
       "    <tr>\n",
       "      <th>137</th>\n",
       "      <td>0.245139</td>\n",
       "      <td>0.211142</td>\n",
       "      <td>0.258497</td>\n",
       "      <td>0.172160</td>\n",
       "    </tr>\n",
       "    <tr>\n",
       "      <th>162</th>\n",
       "      <td>0.272944</td>\n",
       "      <td>0.354801</td>\n",
       "      <td>0.211980</td>\n",
       "      <td>0.286478</td>\n",
       "    </tr>\n",
       "    <tr>\n",
       "      <th>71</th>\n",
       "      <td>0.819465</td>\n",
       "      <td>0.930521</td>\n",
       "      <td>0.644202</td>\n",
       "      <td>0.781415</td>\n",
       "    </tr>\n",
       "    <tr>\n",
       "      <th>85</th>\n",
       "      <td>0.645224</td>\n",
       "      <td>0.912397</td>\n",
       "      <td>0.703447</td>\n",
       "      <td>0.873021</td>\n",
       "    </tr>\n",
       "    <tr>\n",
       "      <th>...</th>\n",
       "      <td>...</td>\n",
       "      <td>...</td>\n",
       "      <td>...</td>\n",
       "      <td>...</td>\n",
       "    </tr>\n",
       "    <tr>\n",
       "      <th>51</th>\n",
       "      <td>0.735264</td>\n",
       "      <td>0.673482</td>\n",
       "      <td>0.972010</td>\n",
       "      <td>0.885099</td>\n",
       "    </tr>\n",
       "    <tr>\n",
       "      <th>155</th>\n",
       "      <td>0.321907</td>\n",
       "      <td>0.320839</td>\n",
       "      <td>0.294047</td>\n",
       "      <td>0.173138</td>\n",
       "    </tr>\n",
       "    <tr>\n",
       "      <th>230</th>\n",
       "      <td>0.608514</td>\n",
       "      <td>0.083115</td>\n",
       "      <td>0.580273</td>\n",
       "      <td>0.833491</td>\n",
       "    </tr>\n",
       "    <tr>\n",
       "      <th>105</th>\n",
       "      <td>0.397835</td>\n",
       "      <td>0.217355</td>\n",
       "      <td>0.323294</td>\n",
       "      <td>0.300720</td>\n",
       "    </tr>\n",
       "    <tr>\n",
       "      <th>135</th>\n",
       "      <td>0.215231</td>\n",
       "      <td>0.501492</td>\n",
       "      <td>0.539930</td>\n",
       "      <td>0.310734</td>\n",
       "    </tr>\n",
       "  </tbody>\n",
       "</table>\n",
       "<p>210 rows × 4 columns</p>\n",
       "</div>"
      ],
      "text/plain": [
       "           V1        V2        V3        V4\n",
       "169  0.156379  0.123832  0.203799  0.155493\n",
       "137  0.245139  0.211142  0.258497  0.172160\n",
       "162  0.272944  0.354801  0.211980  0.286478\n",
       "71   0.819465  0.930521  0.644202  0.781415\n",
       "85   0.645224  0.912397  0.703447  0.873021\n",
       "..        ...       ...       ...       ...\n",
       "51   0.735264  0.673482  0.972010  0.885099\n",
       "155  0.321907  0.320839  0.294047  0.173138\n",
       "230  0.608514  0.083115  0.580273  0.833491\n",
       "105  0.397835  0.217355  0.323294  0.300720\n",
       "135  0.215231  0.501492  0.539930  0.310734\n",
       "\n",
       "[210 rows x 4 columns]"
      ]
     },
     "execution_count": 39,
     "metadata": {},
     "output_type": "execute_result"
    }
   ],
   "source": [
    "# Divide o conjunto de validacao em entrada e saida\n",
    "X_val = validation_set.iloc[:, :-1]    # Dados de entrada\n",
    "y_val = validation_set,iloc[:, -1]     # Saida (label) esperada"
   ]
  }
 ],
 "metadata": {
  "kernelspec": {
   "display_name": "Python 3",
   "language": "python",
   "name": "python3"
  },
  "language_info": {
   "codemirror_mode": {
    "name": "ipython",
    "version": 3
   },
   "file_extension": ".py",
   "mimetype": "text/x-python",
   "name": "python",
   "nbconvert_exporter": "python",
   "pygments_lexer": "ipython3",
   "version": "3.7.6"
  }
 },
 "nbformat": 4,
 "nbformat_minor": 4
}
