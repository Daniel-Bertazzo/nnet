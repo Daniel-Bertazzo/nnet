{
 "cells": [
  {
   "cell_type": "markdown",
   "metadata": {},
   "source": [
    "# SCC0270 - Redes Neurais e Aprendizado Profundo\n",
    "### Aula 6 - Prática (Support Vector Machine e Multilayer Perceptron)\n",
    "**Daniel Penna Chaves Bertazzo - 10349561**"
   ]
  },
  {
   "cell_type": "markdown",
   "metadata": {},
   "source": [
    "## 1) Escolha da métrica de avaliação\n",
    "Para começar, faremos uma análise dos *datasets* para decidir qual métrica usaremos para realizar a avaliação dos modelos."
   ]
  },
  {
   "cell_type": "code",
   "execution_count": 2,
   "metadata": {},
   "outputs": [],
   "source": [
    "import pandas as pd"
   ]
  },
  {
   "cell_type": "code",
   "execution_count": 12,
   "metadata": {},
   "outputs": [],
   "source": [
    "# Leitura dos datasets\n",
    "df1 = pd.read_csv(\"dados1.csv\")\n",
    "df2 = pd.read_csv(\"dados2.csv\")\n",
    "\n",
    "# Separa os labels (apenas a ultima coluna)\n",
    "y1 = df1.iloc[:, -1]\n",
    "y2 = df2.iloc[:, -1]"
   ]
  },
  {
   "cell_type": "markdown",
   "metadata": {},
   "source": [
    "Primeiramente, checaremos quantos *labels* (classes) existem em cada *dataset:*"
   ]
  },
  {
   "cell_type": "code",
   "execution_count": 17,
   "metadata": {},
   "outputs": [
    {
     "name": "stdout",
     "output_type": "stream",
     "text": [
      "Labels do primeiro dataset:\n",
      "[1 2]\n",
      "\n",
      "============================================================================\n",
      "\n",
      "Labels do segundo dataset:\n",
      "[1 2]\n"
     ]
    }
   ],
   "source": [
    "print(\"Labels do primeiro dataset:\")\n",
    "print(y1.unique())\n",
    "\n",
    "print(\"\\n============================================================================\\n\")\n",
    "\n",
    "print(\"Labels do segundo dataset:\")\n",
    "print(y2.unique())"
   ]
  },
  {
   "cell_type": "markdown",
   "metadata": {},
   "source": [
    "<br><br>\n",
    "Em seguida, verificamos quantos exemplos de cada classe existem em cada conjunto de dados:"
   ]
  },
  {
   "cell_type": "code",
   "execution_count": 16,
   "metadata": {},
   "outputs": [
    {
     "name": "stdout",
     "output_type": "stream",
     "text": [
      "Quantidade de exemplos de cada label no dataset 1:\n",
      "2    400\n",
      "1    400\n",
      "Name: V3, dtype: int64\n",
      "\n",
      "============================================================================\n",
      "\n",
      "Quantidade de exemplos de cada label no dataset 1:\n",
      "2    400\n",
      "1    400\n",
      "Name: V3, dtype: int64\n"
     ]
    }
   ],
   "source": [
    "print(\"Quantidade de exemplos de cada label no dataset 1:\")\n",
    "print(y1.value_counts())\n",
    "\n",
    "print(\"\\n============================================================================\\n\")\n",
    "\n",
    "print(\"Quantidade de exemplos de cada label no dataset 1:\")\n",
    "print(y2.value_counts())"
   ]
  },
  {
   "cell_type": "markdown",
   "metadata": {},
   "source": [
    "<br><br>\n",
    "É possível perceber que ambos os *datasets* possuem metade dos exemplos de cada *label*, logo são muito bem distribuídos em relação às classes existentes. Com isso, conclui-se que uma métrica válida para essa situação é a **acurácia**."
   ]
  }
 ],
 "metadata": {
  "kernelspec": {
   "display_name": "Python 3.7.6 64-bit ('base': conda)",
   "language": "python",
   "name": "python37664bitbaseconda1396f5dd0753419f96fe7856bd455978"
  },
  "language_info": {
   "codemirror_mode": {
    "name": "ipython",
    "version": 3
   },
   "file_extension": ".py",
   "mimetype": "text/x-python",
   "name": "python",
   "nbconvert_exporter": "python",
   "pygments_lexer": "ipython3",
   "version": "3.7.6"
  }
 },
 "nbformat": 4,
 "nbformat_minor": 4
}
