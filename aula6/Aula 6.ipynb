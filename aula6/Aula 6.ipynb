{
 "cells": [
  {
   "cell_type": "markdown",
   "metadata": {},
   "source": [
    "# SCC0270 - Redes Neurais e Aprendizado Profundo\n",
    "### Aula 6 - Prática (Support Vector Machine e Multilayer Perceptron)\n",
    "**Daniel Penna Chaves Bertazzo - 10349561**"
   ]
  },
  {
   "cell_type": "markdown",
   "metadata": {},
   "source": [
    "### 1) Escolha da métrica de avaliação\n",
    "Para começar, faremos uma análise dos *datasets* para decidir qual métrica usaremos para realizar a avaliação dos modelos."
   ]
  },
  {
   "cell_type": "code",
   "execution_count": 2,
   "metadata": {},
   "outputs": [],
   "source": [
    "import pandas as pd"
   ]
  },
  {
   "cell_type": "code",
   "execution_count": 12,
   "metadata": {},
   "outputs": [],
   "source": [
    "# Leitura dos datasets\n",
    "df1 = pd.read_csv(\"dados1.csv\")\n",
    "df2 = pd.read_csv(\"dados2.csv\")\n",
    "\n",
    "# Separa os labels (apenas a ultima coluna)\n",
    "y1 = df1.iloc[:, -1]\n",
    "y2 = df2.iloc[:, -1]"
   ]
  },
  {
   "cell_type": "markdown",
   "metadata": {},
   "source": [
    "Primeiramente, checaremos quantos *labels* (classes) existem em cada *dataset:*"
   ]
  },
  {
   "cell_type": "code",
   "execution_count": 17,
   "metadata": {},
   "outputs": [
    {
     "name": "stdout",
     "output_type": "stream",
     "text": [
      "Labels do primeiro dataset:\n",
      "[1 2]\n",
      "\n",
      "============================================================================\n",
      "\n",
      "Labels do segundo dataset:\n",
      "[1 2]\n"
     ]
    }
   ],
   "source": [
    "print(\"Labels do primeiro dataset:\")\n",
    "print(y1.unique())\n",
    "\n",
    "print(\"\\n============================================================================\\n\")\n",
    "\n",
    "print(\"Labels do segundo dataset:\")\n",
    "print(y2.unique())"
   ]
  },
  {
   "cell_type": "markdown",
   "metadata": {},
   "source": [
    "<br><br>\n",
    "Em seguida, verificamos quantos exemplos de cada classe existem em cada conjunto de dados:"
   ]
  },
  {
   "cell_type": "code",
   "execution_count": 16,
   "metadata": {},
   "outputs": [
    {
     "name": "stdout",
     "output_type": "stream",
     "text": [
      "Quantidade de exemplos de cada label no dataset 1:\n",
      "2    400\n",
      "1    400\n",
      "Name: V3, dtype: int64\n",
      "\n",
      "============================================================================\n",
      "\n",
      "Quantidade de exemplos de cada label no dataset 1:\n",
      "2    400\n",
      "1    400\n",
      "Name: V3, dtype: int64\n"
     ]
    }
   ],
   "source": [
    "print(\"Quantidade de exemplos de cada label no dataset 1:\")\n",
    "print(y1.value_counts())\n",
    "\n",
    "print(\"\\n============================================================================\\n\")\n",
    "\n",
    "print(\"Quantidade de exemplos de cada label no dataset 1:\")\n",
    "print(y2.value_counts())"
   ]
  },
  {
   "cell_type": "markdown",
   "metadata": {},
   "source": [
    "<br><br>\n",
    "É possível perceber que ambos os *datasets* possuem metade dos exemplos de cada *label*, logo são muito bem distribuídos em relação às classes existentes. Com isso, conclui-se que uma métrica válida para essa situação é a **acurácia**."
   ]
  },
  {
   "cell_type": "markdown",
   "metadata": {},
   "source": [
    "### 2) Separação dos dados\n",
    "Vamos separar os *datasets* em *features* e *labels*, e também em conjunto de treino e de validação."
   ]
  },
  {
   "cell_type": "code",
   "execution_count": 18,
   "metadata": {},
   "outputs": [],
   "source": [
    "from sklearn.model_selection import train_test_split"
   ]
  },
  {
   "cell_type": "code",
   "execution_count": 22,
   "metadata": {},
   "outputs": [],
   "source": [
    "# ..:: Primeiro dataset (\"dados1.csv\") ::..\n",
    "\n",
    "# Divide em treino e teste (validacao)\n",
    "train_set1, test_set1 = train_test_split(df1, test_size=0.3)\n",
    "\n",
    "# Divide em feature e label\n",
    "X_train1 = train_set1.iloc[:, :-1]\n",
    "y_train1 = train_set1.iloc[:,  -1]\n",
    "X_test1  = test_set1.iloc[:, :-1]\n",
    "y_test1  = test_set1.iloc[:,  -1]"
   ]
  },
  {
   "cell_type": "code",
   "execution_count": 23,
   "metadata": {},
   "outputs": [],
   "source": [
    "# ..:: Segundo dataset (\"dados2.csv\") ::..\n",
    "\n",
    "# Divide em treino e teste (validacao)\n",
    "train_set2, test_set2 = train_test_split(df2, test_size=0.3)\n",
    "\n",
    "# Divide em feature e label\n",
    "X_train2 = train_set2.iloc[:, :-1]\n",
    "y_train2 = train_set2.iloc[:,  -1]\n",
    "X_test2  = test_set2.iloc[:, :-1]\n",
    "y_test2  = test_set2.iloc[:,  -1]"
   ]
  },
  {
   "cell_type": "markdown",
   "metadata": {},
   "source": [
    "### 3) Criando os modelos"
   ]
  },
  {
   "cell_type": "markdown",
   "metadata": {},
   "source": [
    "### 3.1) MLP"
   ]
  },
  {
   "cell_type": "code",
   "execution_count": 30,
   "metadata": {},
   "outputs": [],
   "source": [
    "from sklearn.neural_network import MLPClassifier"
   ]
  },
  {
   "cell_type": "code",
   "execution_count": 31,
   "metadata": {},
   "outputs": [],
   "source": [
    "mlp = MLPClassifier(hidden_layer_sizes=(5, 5), max_iter=1000, activation='logistic', learning_rate_init=0.1)"
   ]
  },
  {
   "cell_type": "markdown",
   "metadata": {},
   "source": [
    "### 3.2) SVM\n",
    "TODO"
   ]
  },
  {
   "cell_type": "markdown",
   "metadata": {},
   "source": [
    "### 4) Treinamento dos modelos"
   ]
  },
  {
   "cell_type": "markdown",
   "metadata": {},
   "source": [
    "### 4.1) MLP"
   ]
  },
  {
   "cell_type": "code",
   "execution_count": 36,
   "metadata": {},
   "outputs": [],
   "source": [
    "# Primeiro dataset (\"dados1.csv\")\n",
    "mlp.fit(X_train1, y_train1)\n",
    "y_pred1 = mlp.predict(X_test1)"
   ]
  },
  {
   "cell_type": "code",
   "execution_count": 37,
   "metadata": {},
   "outputs": [],
   "source": [
    "# Segundo dataset (\"dados2.csv\")\n",
    "mlp.fit(X_train2, y_train2)\n",
    "y_pred2 = mlp.predict(X_test2)"
   ]
  },
  {
   "cell_type": "markdown",
   "metadata": {},
   "source": [
    "### 4.2) SVM\n",
    "TODO"
   ]
  },
  {
   "cell_type": "markdown",
   "metadata": {},
   "source": [
    "### 5) Avaliando os modelos"
   ]
  },
  {
   "cell_type": "markdown",
   "metadata": {},
   "source": [
    "### 5.1) MLP"
   ]
  },
  {
   "cell_type": "code",
   "execution_count": 41,
   "metadata": {},
   "outputs": [],
   "source": [
    "from sklearn.metrics import accuracy_score"
   ]
  },
  {
   "cell_type": "code",
   "execution_count": 46,
   "metadata": {},
   "outputs": [],
   "source": [
    "# Acuracia relacionada ao primeiro dataset (\"dados1.csv\")\n",
    "acc1 = accuracy_score(y_test1, y_pred1)\n",
    "# Acuracia relacionada ao segundo dataset (\"dados2.csv\")\n",
    "acc2 = accuracy_score(y_test2, y_pred2)"
   ]
  },
  {
   "cell_type": "markdown",
   "metadata": {},
   "source": [
    "### 5.2) SVM\n",
    "TODO"
   ]
  },
  {
   "cell_type": "markdown",
   "metadata": {},
   "source": [
    "### 6) Conclusão\n",
    "TODO"
   ]
  }
 ],
 "metadata": {
  "kernelspec": {
   "display_name": "Python 3.7.6 64-bit ('base': conda)",
   "language": "python",
   "name": "python37664bitbaseconda1396f5dd0753419f96fe7856bd455978"
  },
  "language_info": {
   "codemirror_mode": {
    "name": "ipython",
    "version": 3
   },
   "file_extension": ".py",
   "mimetype": "text/x-python",
   "name": "python",
   "nbconvert_exporter": "python",
   "pygments_lexer": "ipython3",
   "version": "3.7.6"
  }
 },
 "nbformat": 4,
 "nbformat_minor": 4
}
