{
 "cells": [
  {
   "cell_type": "code",
   "execution_count": null,
   "metadata": {},
   "outputs": [],
   "source": [
    "''' \n",
    "SCC0270 - Redes Neurais e Aprendizado Profundo\n",
    "Trabalho Avaliativo - 1\n",
    "\n",
    "Grupo:\n",
    "    Vinicius Torres Dutra Maia da Costa - nUSP: 10262781\n",
    "    Daniel Penna Chaves Bertazzo        - nUSP: 10349561\n",
    "    Alexandre Norcia Medeiros           - nUSP: 10295583\n",
    "\n",
    "Requisitos para rodar o codigo:\n",
    "    python - versao 3 \n",
    "    bibliotecas: numpy, pandas, matplotlib, sklearn \n",
    "'''"
   ]
  },
  {
   "cell_type": "code",
   "execution_count": 50,
   "metadata": {},
   "outputs": [],
   "source": [
    "import numpy as np\n",
    "import pandas as pd\n",
    "import matplotlib.pyplot as plt\n",
    "\n",
    "from sklearn.neural_network import MLPClassifier\n",
    "from sklearn import svm\n",
    "from sklearn.datasets import load_iris\n",
    "from sklearn.datasets import load_digits\n",
    "from sklearn.model_selection import cross_validate\n",
    "from sklearn.metrics import confusion_matrix"
   ]
  },
  {
   "cell_type": "markdown",
   "metadata": {},
   "source": [
    "# PARTE 1 - Iris"
   ]
  },
  {
   "cell_type": "code",
   "execution_count": 4,
   "metadata": {},
   "outputs": [],
   "source": [
    "iris = load_iris()\n",
    "X = np.array(iris.data)\n",
    "y = np.array(iris.target)\n",
    "# df = pd.DataFrame(iris.data, columns=iris.feature_names)\n",
    "# pd.plotting.scatter_matrix(df, figsize=(10,10))"
   ]
  },
  {
   "cell_type": "code",
   "execution_count": 39,
   "metadata": {},
   "outputs": [],
   "source": [
    "# MLP - 2 camadas com 3 neuronios, eta = 0.05\n",
    "mlp = MLPClassifier(hidden_layer_sizes=(5, 3), activation='logistic',\n",
    "                    learning_rate='constant', learning_rate_init=0.01, max_iter=1000)"
   ]
  },
  {
   "cell_type": "code",
   "execution_count": null,
   "metadata": {},
   "outputs": [],
   "source": [
    "# SVM com kernel linear\n",
    "supvector = svm.SVC(kernel='rbf', tol=1e-4, max_iter=1000)"
   ]
  },
  {
   "cell_type": "code",
   "execution_count": 48,
   "metadata": {},
   "outputs": [],
   "source": [
    "# Faz a cross-validation, treino e teste\n",
    "results_mlp = cross_validate(mlp, X, y, cv=10, return_train_score=True)"
   ]
  },
  {
   "cell_type": "code",
   "execution_count": 16,
   "metadata": {},
   "outputs": [],
   "source": [
    "results_svm = cross_validate(supvector, X, y, cv=10, return_train_score=True)"
   ]
  },
  {
   "cell_type": "code",
   "execution_count": 49,
   "metadata": {},
   "outputs": [
    {
     "name": "stdout",
     "output_type": "stream",
     "text": [
      "0.9496296296296297 0.9533333333333334\n"
     ]
    }
   ],
   "source": [
    "print(np.mean(results_mlp['train_score']), np.mean(results_mlp['test_score']))"
   ]
  },
  {
   "cell_type": "code",
   "execution_count": 18,
   "metadata": {},
   "outputs": [
    {
     "name": "stdout",
     "output_type": "stream",
     "text": [
      "0.9740740740740741 0.9733333333333334\n"
     ]
    }
   ],
   "source": [
    "print(np.mean(results_svm['train_score']), np.mean(results_svm['test_score']))"
   ]
  },
  {
   "cell_type": "markdown",
   "metadata": {},
   "source": [
    "# PARTE 2 - MNIST"
   ]
  },
  {
   "cell_type": "code",
   "execution_count": 66,
   "metadata": {},
   "outputs": [],
   "source": [
    "mnist = load_digits()\n",
    "X = mnist.data\n",
    "y = mnist.target"
   ]
  }
 ],
 "metadata": {
  "kernelspec": {
   "display_name": "Python 3.7.6 64-bit ('base': conda)",
   "language": "python",
   "name": "python37664bitbaseconda1396f5dd0753419f96fe7856bd455978"
  },
  "language_info": {
   "codemirror_mode": {
    "name": "ipython",
    "version": 3
   },
   "file_extension": ".py",
   "mimetype": "text/x-python",
   "name": "python",
   "nbconvert_exporter": "python",
   "pygments_lexer": "ipython3",
   "version": "3.7.6"
  }
 },
 "nbformat": 4,
 "nbformat_minor": 4
}
