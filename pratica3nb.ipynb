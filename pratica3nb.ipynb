{
 "cells": [
  {
   "cell_type": "code",
   "execution_count": 1,
   "metadata": {},
   "outputs": [],
   "source": [
    "import pandas as pd\n",
    "import numpy as np\n",
    "from sklearn.model_selection import train_test_split\n",
    "from sklearn.neural_network import MLPClassifier\n",
    "from sklearn.metrics import confusion_matrix"
   ]
  },
  {
   "cell_type": "code",
   "execution_count": 2,
   "metadata": {},
   "outputs": [],
   "source": [
    "# Le o dataset\n",
    "df = pd.read_csv(\"Dataset_3Cluster_4features.csv\")"
   ]
  },
  {
   "cell_type": "code",
   "execution_count": 3,
   "metadata": {},
   "outputs": [],
   "source": [
    "# Faz a divisao em conjunto de treino e conjunto de validacao\n",
    "# 70% do dataset e' utilizado para treino\n",
    "training_set, validation_set = train_test_split(df, test_size=0.3)"
   ]
  },
  {
   "cell_type": "code",
   "execution_count": 4,
   "metadata": {},
   "outputs": [],
   "source": [
    "# Divide o conjunto de treinamento em entrada e saida\n",
    "X_train = training_set.iloc[:, :-1].to_numpy()    # Dados de entrada\n",
    "y_train = training_set.iloc[:, -1].to_numpy()     # Saida (label) esperada"
   ]
  },
  {
   "cell_type": "code",
   "execution_count": 5,
   "metadata": {},
   "outputs": [],
   "source": [
    "# Divide o conjunto de validacao em entrada e saida\n",
    "X_test = validation_set.iloc[:, :-1].to_numpy()    # Dados de entrada\n",
    "y_test = validation_set.iloc[:, -1].to_numpy()     # Saida (label) esperada"
   ]
  },
  {
   "cell_type": "code",
   "execution_count": 6,
   "metadata": {},
   "outputs": [],
   "source": [
    "## Inicizalizando as MLPs \n",
    "\n",
    "# MLP 1: 2 camadas escondidas, uma com 10 neuronios e outra com 5. Ativacao sigmoide\n",
    "# Obs.: Foi necessario aumentar o numero maximo de iteracoes nesta rede, pois muitas vezes\n",
    "# 1000 nao eram suficientes, nao havendo convergencia\n",
    "classifier1 = MLPClassifier(hidden_layer_sizes=(10, 5), max_iter=1200, activation='logistic')"
   ]
  },
  {
   "cell_type": "code",
   "execution_count": 7,
   "metadata": {},
   "outputs": [],
   "source": [
    "# MLP 2: uma camada escondida com 20 neuronios. Ativacao tangente hiperbolica\n",
    "classifier2 = MLPClassifier(hidden_layer_sizes=(20), max_iter=1000, activation='tanh')"
   ]
  },
  {
   "cell_type": "code",
   "execution_count": 8,
   "metadata": {},
   "outputs": [],
   "source": [
    "# MLP 3: 3 camadas escondidas com 5 neuronios cada. Ativacao rectified linear unit\n",
    "classifier3 = MLPClassifier(hidden_layer_sizes=(5, 5, 5), max_iter=1000, activation='relu')"
   ]
  },
  {
   "cell_type": "code",
   "execution_count": 9,
   "metadata": {},
   "outputs": [
    {
     "data": {
      "text/plain": [
       "MLPClassifier(activation='logistic', alpha=0.0001, batch_size='auto',\n",
       "              beta_1=0.9, beta_2=0.999, early_stopping=False, epsilon=1e-08,\n",
       "              hidden_layer_sizes=(10, 5), learning_rate='constant',\n",
       "              learning_rate_init=0.001, max_fun=15000, max_iter=1200,\n",
       "              momentum=0.9, n_iter_no_change=10, nesterovs_momentum=True,\n",
       "              power_t=0.5, random_state=None, shuffle=True, solver='adam',\n",
       "              tol=0.0001, validation_fraction=0.1, verbose=False,\n",
       "              warm_start=False)"
      ]
     },
     "execution_count": 9,
     "metadata": {},
     "output_type": "execute_result"
    }
   ],
   "source": [
    "classifier1.fit(X_train, y_train)"
   ]
  },
  {
   "cell_type": "code",
   "execution_count": 10,
   "metadata": {},
   "outputs": [
    {
     "data": {
      "text/plain": [
       "MLPClassifier(activation='tanh', alpha=0.0001, batch_size='auto', beta_1=0.9,\n",
       "              beta_2=0.999, early_stopping=False, epsilon=1e-08,\n",
       "              hidden_layer_sizes=20, learning_rate='constant',\n",
       "              learning_rate_init=0.001, max_fun=15000, max_iter=1000,\n",
       "              momentum=0.9, n_iter_no_change=10, nesterovs_momentum=True,\n",
       "              power_t=0.5, random_state=None, shuffle=True, solver='adam',\n",
       "              tol=0.0001, validation_fraction=0.1, verbose=False,\n",
       "              warm_start=False)"
      ]
     },
     "execution_count": 10,
     "metadata": {},
     "output_type": "execute_result"
    }
   ],
   "source": [
    "classifier2.fit(X_train, y_train)"
   ]
  },
  {
   "cell_type": "code",
   "execution_count": 11,
   "metadata": {},
   "outputs": [
    {
     "data": {
      "text/plain": [
       "MLPClassifier(activation='relu', alpha=0.0001, batch_size='auto', beta_1=0.9,\n",
       "              beta_2=0.999, early_stopping=False, epsilon=1e-08,\n",
       "              hidden_layer_sizes=(5, 5, 5), learning_rate='constant',\n",
       "              learning_rate_init=0.001, max_fun=15000, max_iter=1000,\n",
       "              momentum=0.9, n_iter_no_change=10, nesterovs_momentum=True,\n",
       "              power_t=0.5, random_state=None, shuffle=True, solver='adam',\n",
       "              tol=0.0001, validation_fraction=0.1, verbose=False,\n",
       "              warm_start=False)"
      ]
     },
     "execution_count": 11,
     "metadata": {},
     "output_type": "execute_result"
    }
   ],
   "source": [
    "classifier3.fit(X_train, y_train)"
   ]
  },
  {
   "cell_type": "code",
   "execution_count": 12,
   "metadata": {},
   "outputs": [],
   "source": [
    "y_pred1 = classifier1.predict(X_test)"
   ]
  },
  {
   "cell_type": "code",
   "execution_count": 13,
   "metadata": {},
   "outputs": [],
   "source": [
    "y_pred2 = classifier2.predict(X_test)"
   ]
  },
  {
   "cell_type": "code",
   "execution_count": 14,
   "metadata": {},
   "outputs": [],
   "source": [
    "y_pred3 = classifier3.predict(X_test)"
   ]
  },
  {
   "cell_type": "code",
   "execution_count": 15,
   "metadata": {},
   "outputs": [],
   "source": [
    "cm1 = confusion_matrix(y_test, y_pred1)\n",
    "cm2 = confusion_matrix(y_test, y_pred2)\n",
    "cm3 = confusion_matrix(y_test, y_pred3)"
   ]
  },
  {
   "cell_type": "code",
   "execution_count": 16,
   "metadata": {},
   "outputs": [],
   "source": [
    "'''\n",
    "A acuracia sera medida usando matriz de confusao. Dada a matriz de confusao C, temos:\n",
    "\n",
    "| C11  C21 . . . Cj1 |\n",
    "| C21  C22 . . . Cj2 |\n",
    "|  .    .  .      .  |\n",
    "|  .    .    .    .  |\n",
    "|  .    .      .  .  |\n",
    "| Ci1  Ci2 . . . Cij |\n",
    "\n",
    "onde Cij representa o numero de exepmlos do label i classificados como j. Com isso, temos:\n",
    "        \n",
    "         | casos onde a previsao foi feita corretamente, se i == j\n",
    "Cij = -- {\n",
    "         | casos onde a previsao errou, se i != j\n",
    "         \n",
    "Portanto, para calcular a acuracia, basta somarmos todos os elementos corretamente preditos (diagonal principal)\n",
    "e dividir pela soma de todos os elementos da matriz C.\n",
    "\n",
    "Input: C = matriz de confusao\n",
    " \n",
    "'''\n",
    "def accuracy(C):\n",
    "    return C.trace() / C.sum()"
   ]
  },
  {
   "cell_type": "code",
   "execution_count": 17,
   "metadata": {},
   "outputs": [],
   "source": [
    "acc1 = accuracy(cm1)\n",
    "acc2 = accuracy(cm2)\n",
    "acc3 = accuracy(cm3)"
   ]
  },
  {
   "cell_type": "code",
   "execution_count": 18,
   "metadata": {},
   "outputs": [
    {
     "name": "stdout",
     "output_type": "stream",
     "text": [
      "Acuracia do modelo 1:  0.6333333333333333\n"
     ]
    }
   ],
   "source": [
    "print(\"Acuracia do modelo 1: \", acc1)"
   ]
  },
  {
   "cell_type": "code",
   "execution_count": 19,
   "metadata": {},
   "outputs": [
    {
     "name": "stdout",
     "output_type": "stream",
     "text": [
      "Acuracia do modelo 2:  0.9888888888888889\n"
     ]
    }
   ],
   "source": [
    "print(\"Acuracia do modelo 2: \", acc2)"
   ]
  },
  {
   "cell_type": "code",
   "execution_count": 20,
   "metadata": {},
   "outputs": [
    {
     "name": "stdout",
     "output_type": "stream",
     "text": [
      "Acuracia do modelo 3:  0.9888888888888889\n"
     ]
    }
   ],
   "source": [
    "print(\"Acuracia do modelo 3: \", acc3)"
   ]
  }
 ],
 "metadata": {
  "kernelspec": {
   "display_name": "Python 3",
   "language": "python",
   "name": "python3"
  },
  "language_info": {
   "codemirror_mode": {
    "name": "ipython",
    "version": 3
   },
   "file_extension": ".py",
   "mimetype": "text/x-python",
   "name": "python",
   "nbconvert_exporter": "python",
   "pygments_lexer": "ipython3",
   "version": "3.7.6"
  }
 },
 "nbformat": 4,
 "nbformat_minor": 4
}
