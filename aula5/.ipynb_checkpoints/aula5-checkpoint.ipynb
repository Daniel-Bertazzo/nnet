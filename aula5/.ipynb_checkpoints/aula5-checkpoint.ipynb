{
 "cells": [
  {
   "cell_type": "markdown",
   "metadata": {},
   "source": [
    "# Exercício 1\n",
    "### Classificador binário\n",
    "No caso de uma tarefa de classificação binária (apenas duas classes, positivo e negativo por exemplo), a matriz de confusão é simples: uma tabela 2x2 onde as colunas representam as classes preditas pelo classificador, e as linhas as classes verdadeiras. Por exemplo, tome a matriz de confusão a seguir:\n",
    "\n",
    "$$ \\begin{bmatrix}          & Positivo & Negativo  \\\\\n",
    "                   Positivo & 45       & 4         \\\\\n",
    "                   Negativo & 3        & 53         \\end{bmatrix} $$\n",
    "\n",
    "Em relação à classe positiva (primeira coluna), vemos que um certo algoritmo classificou corretamente 45 instâncias como positivas e 3 erroneamente (foram classificadas como positivas, porém são negativas -> **falsos positivos**). Já em relação à classe negativa (segunda coluna), vemos que ele classificou corretamente 53 instâncias como negativas e 4 erroneamente (foram classificadas como negativas, porém são positivas -> **falsos negativos**).\n",
    "Nesse contexto, pode-se estruturar a matriz da seguinte forma:\n",
    "\n",
    "$$ \\begin{bmatrix}          & Positivo & Negativo  \\\\\n",
    "                   Positivo & TP       & FN        \\\\\n",
    "                   Negativo & FP       & TN        \\end{bmatrix} $$\n",
    "\n",
    "Onde:<br>\n",
    "TP = *true positive* (classificados como positivo e são de fato positivos);<br>\n",
    "TN = *true negative* (classificados como negativo e são de fato negativos);<br>\n",
    "FP = *false positive* (classificados como positivos, porém são negativos);<br>\n",
    "FN = *false negative* (classificados como negativos, porém são positivos).\n",
    "\n",
    "### Classificador multiclasse\n",
    "No caso de um classificador multiclasse, teremos uma matriz de confusão maior do que 2x2. Na verdade, teremos uma matriz nxn, onde n = número de classes. Nesse caso, os rótulos apresentados acima serão um pouco mais complexos. Dada uma matriz de confusão $C_{ij}$:\n",
    "\n",
    "$$ \\begin{bmatrix} C_{11} & \\cdots & C_{1n} \\\\\n",
    "                   \\vdots & \\ddots & \\vdots \\\\\n",
    "                   C_{n1} & \\cdots & C_{nn} \\end{bmatrix} $$"
   ]
  }
 ],
 "metadata": {
  "kernelspec": {
   "display_name": "Python 3.7.7 64-bit",
   "language": "python",
   "name": "python37764bitb61cd47a03774877b8e2e3a3410d7e78"
  },
  "language_info": {
   "codemirror_mode": {
    "name": "ipython",
    "version": 3
   },
   "file_extension": ".py",
   "mimetype": "text/x-python",
   "name": "python",
   "nbconvert_exporter": "python",
   "pygments_lexer": "ipython3",
   "version": "3.7.7"
  }
 },
 "nbformat": 4,
 "nbformat_minor": 4
}
