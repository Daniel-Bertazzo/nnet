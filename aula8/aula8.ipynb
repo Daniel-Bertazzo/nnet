{
 "cells": [
  {
   "cell_type": "code",
   "execution_count": 10,
   "metadata": {},
   "outputs": [],
   "source": [
    "import tensorflow as tf\n",
    "import tensorflow.keras as keras\n",
    "import numpy as np"
   ]
  },
  {
   "cell_type": "markdown",
   "metadata": {},
   "source": [
    "# Item 1.1 - Preparação dos dados"
   ]
  },
  {
   "cell_type": "code",
   "execution_count": 2,
   "metadata": {},
   "outputs": [],
   "source": [
    "# Carrega o dataset\n",
    "(X_train, y_train), (X_test, y_test) = tf.keras.datasets.mnist.load_data()"
   ]
  },
  {
   "cell_type": "code",
   "execution_count": 26,
   "metadata": {},
   "outputs": [],
   "source": [
    "# Junta as instancias dos dois conjuntos em um unico dataset\n",
    "data = np.concatenate((X_train, X_test))\n",
    "\n",
    "# Junta os targets dos dois conjuntos em um unico vetor\n",
    "target = np.concatenate((y_train, y_test))"
   ]
  },
  {
   "cell_type": "code",
   "execution_count": 28,
   "metadata": {},
   "outputs": [
    {
     "name": "stdout",
     "output_type": "stream",
     "text": [
      "(70000, 28, 28)\n",
      "(70000,)\n"
     ]
    }
   ],
   "source": [
    "print(data.shape, target.shape, sep='\\n')"
   ]
  },
  {
   "cell_type": "markdown",
   "metadata": {},
   "source": [
    "### Define as proporções dos cortes"
   ]
  },
  {
   "cell_type": "code",
   "execution_count": 49,
   "metadata": {},
   "outputs": [],
   "source": [
    "cut_10 = int(data.shape[0] * 0.1)  # 10%\n",
    "cut_20 = int(data.shape[0] * 0.2)  # 20%\n",
    "cut_30 = int(data.shape[0] * 0.3)  # 30%\n",
    "cut_40 = int(data.shape[0] * 0.4)  # 40%\n",
    "cut_50 = int(data.shape[0] * 0.5)  # 50%\n",
    "cut_60 = int(data.shape[0] * 0.6)  # 60%\n",
    "cut_70 = int(data.shape[0] * 0.7)  # 70%\n",
    "cut_80 = int(data.shape[0] * 0.8)  # 80%\n",
    "cut_90 = int(data.shape[0] * 0.9)  # 90%"
   ]
  },
  {
   "cell_type": "markdown",
   "metadata": {},
   "source": [
    "### Realiza os cortes"
   ]
  },
  {
   "cell_type": "code",
   "execution_count": 50,
   "metadata": {},
   "outputs": [],
   "source": [
    "# Corte em 10%\n",
    "X_10 = data[:cut_10]\n",
    "y_10 = target[:cut_10]\n",
    "\n",
    "# Corte em 20%\n",
    "X_20 = data[:cut_20]\n",
    "y_20 = target[:cut_20]\n",
    "\n",
    "# Corte em 30%\n",
    "X_30 = data[:cut_30]\n",
    "y_30 = target[:cut_30]\n",
    "\n",
    "# Corte em 40%\n",
    "X_40 = data[:cut_40]\n",
    "y_40 = target[:cut_40]\n",
    "\n",
    "# Corte em 50%\n",
    "X_50 = data[:cut_50]\n",
    "y_50 = target[:cut_50]\n",
    "\n",
    "# Corte em 60%\n",
    "X_60 = data[:cut_60]\n",
    "y_60 = target[:cut_60]\n",
    "\n",
    "# Corte em 70%\n",
    "X_70 = data[:cut_70]\n",
    "y_70 = target[:cut_70]\n",
    "\n",
    "# Corte em 80%\n",
    "X_80 = data[:cut_80]\n",
    "y_80 = target[:cut_80]\n",
    "\n",
    "# Corte em 90%\n",
    "X_90 = data[:cut_90]\n",
    "y_90 = target[:cut_90]\n",
    "\n",
    "# Corte em 100% (nao realiza corte)\n",
    "X_100 = data\n",
    "y_100 = target"
   ]
  }
 ],
 "metadata": {
  "kernelspec": {
   "display_name": "Python 3.7.6 64-bit ('base': conda)",
   "language": "python",
   "name": "python37664bitbaseconda1396f5dd0753419f96fe7856bd455978"
  },
  "language_info": {
   "codemirror_mode": {
    "name": "ipython",
    "version": 3
   },
   "file_extension": ".py",
   "mimetype": "text/x-python",
   "name": "python",
   "nbconvert_exporter": "python",
   "pygments_lexer": "ipython3",
   "version": "3.7.6"
  }
 },
 "nbformat": 4,
 "nbformat_minor": 4
}
