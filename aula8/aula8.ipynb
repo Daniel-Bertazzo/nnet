{
 "cells": [
  {
   "cell_type": "markdown",
   "metadata": {},
   "source": [
    "# SCC0270 - Redes Neurais e Aprendizado Profundo\n",
    "### Aula 8 - Prática (Redes neurais convolutivas)\n",
    "**Daniel Penna Chaves Bertazzo - 10349561**"
   ]
  },
  {
   "cell_type": "code",
   "execution_count": 6,
   "metadata": {},
   "outputs": [],
   "source": [
    "import tensorflow as tf\n",
    "import tensorflow.keras as keras\n",
    "import numpy as np\n",
    "from tensorflow.keras.models import Sequential\n",
    "from tensorflow.keras.layers import Dense, Conv2D, MaxPooling2D, Flatten\n",
    "from tensorflow.keras.utils import to_categorical"
   ]
  },
  {
   "cell_type": "markdown",
   "metadata": {},
   "source": [
    "# Item 1.1 - Preparação dos dados"
   ]
  },
  {
   "cell_type": "markdown",
   "metadata": {},
   "source": [
    "###  Importação do *dataset* e concatenação em um único conjunto"
   ]
  },
  {
   "cell_type": "code",
   "execution_count": 7,
   "metadata": {},
   "outputs": [],
   "source": [
    "# Carrega o dataset\n",
    "# originalmente ja vem separado em treino e teste, mas aqui vamos juntar tudo\n",
    "(data, target), (data_aux, target_aux) = tf.keras.datasets.mnist.load_data()"
   ]
  },
  {
   "cell_type": "code",
   "execution_count": 8,
   "metadata": {},
   "outputs": [],
   "source": [
    "# Junta as instancias dos dois conjuntos em um unico dataset\n",
    "data = np.concatenate((data, data_aux))\n",
    "\n",
    "# Junta os targets dos dois conjuntos em um unico vetor\n",
    "target = np.concatenate((target, target_aux))\n",
    "\n",
    "# Para economizar memoria\n",
    "del data_aux, target_aux"
   ]
  },
  {
   "cell_type": "code",
   "execution_count": 9,
   "metadata": {},
   "outputs": [],
   "source": [
    "# Faz o one-hot enconding dos targets (compatibilidade com a saida de uma rede neural)\n",
    "target = to_categorical(target)"
   ]
  },
  {
   "cell_type": "code",
   "execution_count": 10,
   "metadata": {},
   "outputs": [
    {
     "name": "stdout",
     "output_type": "stream",
     "text": [
      "(70000, 28, 28)\n",
      "(70000, 10)\n"
     ]
    }
   ],
   "source": [
    "print(data.shape, target.shape, sep='\\n')"
   ]
  },
  {
   "cell_type": "markdown",
   "metadata": {},
   "source": [
    "### Definição das proporções dos cortes"
   ]
  },
  {
   "cell_type": "code",
   "execution_count": 16,
   "metadata": {},
   "outputs": [],
   "source": [
    "# Calcula o tamanho de cada corte -> 10% até 100%\n",
    "cuts = [int((x/10) * data.shape[0]) for x in range(1, 11)]"
   ]
  },
  {
   "cell_type": "markdown",
   "metadata": {},
   "source": [
    "### Realização dos cortes"
   ]
  },
  {
   "cell_type": "code",
   "execution_count": 24,
   "metadata": {},
   "outputs": [],
   "source": [
    "X = [] # Armazena os 10 conjuntos de instancias\n",
    "y = [] # Armazena os 10 conjuntos de targets\n",
    "for cut in cuts:\n",
    "    X.append(data[:cut])\n",
    "    y.append(target[:cut])"
   ]
  },
  {
   "cell_type": "markdown",
   "metadata": {},
   "source": [
    "### Separação em treino e teste"
   ]
  },
  {
   "cell_type": "code",
   "execution_count": 40,
   "metadata": {},
   "outputs": [],
   "source": [
    "from sklearn.model_selection import train_test_split"
   ]
  },
  {
   "cell_type": "code",
   "execution_count": null,
   "metadata": {},
   "outputs": [],
   "source": [
    "X_10_train,  X_10_test,  y_10_train,  y_10_test  = train_test_split(X_10,  y_10,  test_size=0.3)\n",
    "X_20_train,  X_20_test,  y_20_train,  y_20_test  = train_test_split(X_20,  y_20,  test_size=0.3)\n",
    "X_30_train,  X_30_test,  y_30_train,  y_30_test  = train_test_split(X_30,  y_30,  test_size=0.3)\n",
    "X_40_train,  X_40_test,  y_40_train,  y_40_test  = train_test_split(X_40,  y_40,  test_size=0.3)\n",
    "X_50_train,  X_50_test,  y_50_train,  y_50_test  = train_test_split(X_50,  y_50,  test_size=0.3)\n",
    "X_60_train,  X_60_test,  y_60_train,  y_60_test  = train_test_split(X_60,  y_60,  test_size=0.3)\n",
    "X_70_train,  X_70_test,  y_70_train,  y_70_test  = train_test_split(X_70,  y_70,  test_size=0.3)\n",
    "X_80_train,  X_80_test,  y_80_train,  y_80_test  = train_test_split(X_80,  y_80,  test_size=0.3)\n",
    "X_90_train,  X_90_test,  y_90_train,  y_90_test  = train_test_split(X_90,  y_90,  test_size=0.3)\n",
    "X_100_train, X_100_test, y_100_train, y_100_test = train_test_split(X_100, y_100, test_size=0.3)"
   ]
  },
  {
   "cell_type": "markdown",
   "metadata": {},
   "source": [
    "### Ajustando as dimensões para ser compatível com o modelo do Keras"
   ]
  },
  {
   "cell_type": "code",
   "execution_count": null,
   "metadata": {},
   "outputs": [],
   "source": [
    "X_10_train = X_10_train.reshape(X_10_train.shape[0], X_10_train.shape[1], X_10_train.shape[2], 1)\n",
    "X_10_test  = X_10_test.reshape( X_10_test.shape[0],  X_10_test.shape[1],  X_10_test.shape[2],  1)\n",
    "\n",
    "X_20_train = X_20_train.reshape(X_20_train.shape[0], X_20_train.shape[1], X_20_train.shape[2], 1)\n",
    "X_20_test  = X_20_test.reshape( X_20_test.shape[0],  X_20_test.shape[1],  X_20_test.shape[2],  1)\n",
    "\n",
    "X_30_train = X_30_train.reshape(X_30_train.shape[0], X_30_train.shape[1], X_30_train.shape[2], 1)\n",
    "X_30_test  = X_30_test.reshape( X_30_test.shape[0],  X_30_test.shape[1],  X_30_test.shape[2],  1)\n",
    "\n",
    "X_40_train = X_40_train.reshape(X_40_train.shape[0], X_40_train.shape[1], X_40_train.shape[2], 1)\n",
    "X_40_test  = X_40_test.reshape( X_40_test.shape[0],  X_40_test.shape[1],  X_40_test.shape[2],  1)\n",
    "\n",
    "X_50_train = X_50_train.reshape(X_50_train.shape[0], X_50_train.shape[1], X_50_train.shape[2], 1)\n",
    "X_50_test  = X_50_test.reshape( X_50_test.shape[0],  X_50_test.shape[1],  X_50_test.shape[2],  1)\n",
    "\n",
    "X_60_train = X_60_train.reshape(X_60_train.shape[0], X_60_train.shape[1], X_60_train.shape[2], 1)\n",
    "X_60_test  = X_60_test.reshape( X_60_test.shape[0],  X_60_test.shape[1],  X_60_test.shape[2],  1)\n",
    "\n",
    "X_70_train = X_70_train.reshape(X_70_train.shape[0], X_70_train.shape[1], X_70_train.shape[2], 1)\n",
    "X_70_test  = X_70_test.reshape( X_70_test.shape[0],  X_70_test.shape[1],  X_70_test.shape[2],  1)\n",
    "\n",
    "X_80_train = X_80_train.reshape(X_80_train.shape[0], X_80_train.shape[1], X_80_train.shape[2], 1)\n",
    "X_80_test  = X_80_test.reshape( X_80_test.shape[0],  X_80_test.shape[1],  X_80_test.shape[2],  1)\n",
    "\n",
    "X_90_train = X_90_train.reshape(X_90_train.shape[0], X_90_train.shape[1], X_90_train.shape[2], 1)\n",
    "X_90_test  = X_90_test.reshape( X_90_test.shape[0],  X_90_test.shape[1],  X_90_test.shape[2],  1)\n",
    "\n",
    "X_100_train = X_100_train.reshape(X_100_train.shape[0], X_100_train.shape[1], X_100_train.shape[2], 1)\n",
    "X_100_test  = X_100_test.reshape( X_100_test.shape[0],  X_100_test.shape[1],  X_100_test.shape[2],  1)"
   ]
  },
  {
   "cell_type": "markdown",
   "metadata": {},
   "source": [
    "#  Item 1.2 - Criação do modelo e implementação das redes\n",
    "A arquitetura utilizada para todos os cortes será a seguinte:\n",
    "* **Primeira camada:** convolução com 32 filtros 3x3 e ativação relu + max_pooling 2x2\n",
    "\n",
    "* **Segunda camada:** convolução com 64 filtros 3x3 e ativação relu + max_pooling 2x2\n",
    "\n",
    "* **Última camada:** *fully connected* com 10 neurônios (número de classes) e ativação softmax"
   ]
  },
  {
   "cell_type": "code",
   "execution_count": null,
   "metadata": {},
   "outputs": [],
   "source": [
    "X_10_train.shape"
   ]
  },
  {
   "cell_type": "code",
   "execution_count": null,
   "metadata": {},
   "outputs": [],
   "source": [
    "model_10 = Sequential()\n",
    "\n",
    "model_10.add(Conv2D(filters=32, kernel_size=(3, 3), activation='relu', input_shape=X_10_train.shape[1:]))"
   ]
  }
 ],
 "metadata": {
  "kernelspec": {
   "display_name": "Python 3.7.6 64-bit ('base': conda)",
   "language": "python",
   "name": "python37664bitbaseconda1396f5dd0753419f96fe7856bd455978"
  },
  "language_info": {
   "codemirror_mode": {
    "name": "ipython",
    "version": 3
   },
   "file_extension": ".py",
   "mimetype": "text/x-python",
   "name": "python",
   "nbconvert_exporter": "python",
   "pygments_lexer": "ipython3",
   "version": "3.7.6"
  }
 },
 "nbformat": 4,
 "nbformat_minor": 4
}
