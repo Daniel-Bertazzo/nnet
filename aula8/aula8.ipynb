{
 "cells": [
  {
   "cell_type": "markdown",
   "metadata": {},
   "source": [
    "# SCC0270 - Redes Neurais e Aprendizado Profundo\n",
    "### Aula 8 - Prática (Redes neurais convolutivas)\n",
    "**Daniel Penna Chaves Bertazzo - 10349561**"
   ]
  },
  {
   "cell_type": "code",
   "execution_count": 1,
   "metadata": {},
   "outputs": [],
   "source": [
    "import tensorflow as tf\n",
    "import tensorflow.keras as keras\n",
    "import numpy as np\n",
    "from tensorflow.keras.models import Sequential\n",
    "from tensorflow.keras.layers import Dense, Conv2D, MaxPooling2D, Flatten\n",
    "from tensorflow.keras.utils import to_categorical\n",
    "from tensorflow.keras.callbacks import TensorBoard"
   ]
  },
  {
   "cell_type": "markdown",
   "metadata": {},
   "source": [
    "# Item 1.1 - Preparação dos dados"
   ]
  },
  {
   "cell_type": "markdown",
   "metadata": {},
   "source": [
    "###  Importação do *dataset* e concatenação em um único conjunto"
   ]
  },
  {
   "cell_type": "code",
   "execution_count": 2,
   "metadata": {},
   "outputs": [],
   "source": [
    "# Carrega o dataset\n",
    "# originalmente ja vem separado em treino e teste, mas aqui vamos juntar tudo\n",
    "(data, target), (data_aux, target_aux) = tf.keras.datasets.mnist.load_data()"
   ]
  },
  {
   "cell_type": "code",
   "execution_count": 3,
   "metadata": {},
   "outputs": [],
   "source": [
    "# Junta as instancias dos dois conjuntos em um unico dataset\n",
    "data = np.concatenate((data, data_aux))\n",
    "\n",
    "# Junta os targets dos dois conjuntos em um unico vetor\n",
    "target = np.concatenate((target, target_aux))\n",
    "\n",
    "# Para economizar memoria\n",
    "del data_aux, target_aux"
   ]
  },
  {
   "cell_type": "code",
   "execution_count": 4,
   "metadata": {},
   "outputs": [],
   "source": [
    "# Faz o one-hot enconding dos targets (compatibilidade com a saida de uma rede neural)\n",
    "target = to_categorical(target)"
   ]
  },
  {
   "cell_type": "code",
   "execution_count": 5,
   "metadata": {},
   "outputs": [
    {
     "name": "stdout",
     "output_type": "stream",
     "text": [
      "(70000, 28, 28)\n",
      "(70000, 10)\n"
     ]
    }
   ],
   "source": [
    "print(data.shape, target.shape, sep='\\n')"
   ]
  },
  {
   "cell_type": "markdown",
   "metadata": {},
   "source": [
    "### Definição das proporções dos cortes"
   ]
  },
  {
   "cell_type": "code",
   "execution_count": 6,
   "metadata": {},
   "outputs": [],
   "source": [
    "# Calcula o tamanho de cada corte -> 10% até 100%\n",
    "cuts = [int((x/10) * data.shape[0]) for x in range(1, 11)]"
   ]
  },
  {
   "cell_type": "markdown",
   "metadata": {},
   "source": [
    "### Realização dos cortes"
   ]
  },
  {
   "cell_type": "code",
   "execution_count": 7,
   "metadata": {},
   "outputs": [],
   "source": [
    "X = [] # Armazena os 10 conjuntos de instancias\n",
    "y = [] # Armazena os 10 conjuntos de targets"
   ]
  },
  {
   "cell_type": "code",
   "execution_count": 8,
   "metadata": {},
   "outputs": [],
   "source": [
    "for cut in cuts:\n",
    "    X.append(data[:cut])\n",
    "    y.append(target[:cut])"
   ]
  },
  {
   "cell_type": "markdown",
   "metadata": {},
   "source": [
    "### Separação em treino e teste"
   ]
  },
  {
   "cell_type": "code",
   "execution_count": 9,
   "metadata": {},
   "outputs": [],
   "source": [
    "from sklearn.model_selection import train_test_split"
   ]
  },
  {
   "cell_type": "code",
   "execution_count": 10,
   "metadata": {},
   "outputs": [],
   "source": [
    "# Armazenam as instancias para treino e teste\n",
    "X_train = [None] * 10\n",
    "X_test  = [None] * 10\n",
    "\n",
    "# Armazenam os targets para treino e teste\n",
    "y_train = [None] * 10\n",
    "y_test  = [None] * 10"
   ]
  },
  {
   "cell_type": "code",
   "execution_count": 11,
   "metadata": {},
   "outputs": [],
   "source": [
    "for i in range(10):\n",
    "    X_train[i], X_test[i], y_train[i], y_test[i] = train_test_split(X[i], y[i], test_size=0.3)"
   ]
  },
  {
   "cell_type": "markdown",
   "metadata": {},
   "source": [
    "### Ajustando as dimensões para ser compatível com o modelo do Keras"
   ]
  },
  {
   "cell_type": "code",
   "execution_count": 12,
   "metadata": {},
   "outputs": [],
   "source": [
    "for i in range(10):\n",
    "    X_train[i] = X_train[i].reshape(X_train[i].shape[0], X_train[i].shape[1], X_train[i].shape[2], 1)\n",
    "    X_test[i]  = X_test[i].reshape(X_test[i].shape[0], X_test[i].shape[1], X_test[i].shape[2], 1)"
   ]
  },
  {
   "cell_type": "markdown",
   "metadata": {},
   "source": [
    "#  Item 1.2 - Criação e implementação do modelo\n",
    "A arquitetura utilizada para todos os cortes será a seguinte:\n",
    "* **Primeira camada:** convolução com 32 filtros 3x3 e ativação relu + max_pooling 2x2\n",
    "\n",
    "* **Segunda camada:** convolução com 64 filtros 3x3 e ativação relu + max_pooling 2x2\n",
    "\n",
    "* **Última camada:** *fully connected* com 10 neurônios (número de classes) e ativação softmax"
   ]
  },
  {
   "cell_type": "code",
   "execution_count": 13,
   "metadata": {},
   "outputs": [],
   "source": [
    "model = Sequential()\n",
    "\n",
    "# Primeira camada (conv + pooling)\n",
    "# Na primeira camada, é preciso passar o input_shape. Como todos os X_train[i] \n",
    "# possuem dados da mesma dimensao, divergindo apenas na quantidade de instancias em cada um,\n",
    "# pode-se usar o shape de qualquer um deles. Neste caso, usou-se o X_train[0]\n",
    "model.add(Conv2D(filters=32, kernel_size=(3, 3), activation='relu', input_shape=X_train[0].shape[1:]))\n",
    "model.add(MaxPooling2D(pool_size=(2, 2)))\n",
    "\n",
    "# Segunda camada (conv + pooling)\n",
    "model.add(Conv2D(filters=64, kernel_size=(3, 3), activation='relu', input_shape=X_train[0].shape[1:]))\n",
    "model.add(MaxPooling2D(pool_size=(2, 2)))\n",
    "\n",
    "# Transforma os dados para um vetor unidimensional\n",
    "model.add(Flatten())\n",
    "\n",
    "# Ultima camada: fully connected com 10 neuronios (1 para cada classe) e\n",
    "# ativacao softmax para obter as probabilidades\n",
    "model.add(Dense(10, activation='softmax'))"
   ]
  },
  {
   "cell_type": "code",
   "execution_count": 14,
   "metadata": {},
   "outputs": [
    {
     "name": "stdout",
     "output_type": "stream",
     "text": [
      "Model: \"sequential\"\n",
      "_________________________________________________________________\n",
      "Layer (type)                 Output Shape              Param #   \n",
      "=================================================================\n",
      "conv2d (Conv2D)              (None, 26, 26, 32)        320       \n",
      "_________________________________________________________________\n",
      "max_pooling2d (MaxPooling2D) (None, 13, 13, 32)        0         \n",
      "_________________________________________________________________\n",
      "conv2d_1 (Conv2D)            (None, 11, 11, 64)        18496     \n",
      "_________________________________________________________________\n",
      "max_pooling2d_1 (MaxPooling2 (None, 5, 5, 64)          0         \n",
      "_________________________________________________________________\n",
      "flatten (Flatten)            (None, 1600)              0         \n",
      "_________________________________________________________________\n",
      "dense (Dense)                (None, 10)                16010     \n",
      "=================================================================\n",
      "Total params: 34,826\n",
      "Trainable params: 34,826\n",
      "Non-trainable params: 0\n",
      "_________________________________________________________________\n"
     ]
    }
   ],
   "source": [
    "model.summary()"
   ]
  },
  {
   "cell_type": "code",
   "execution_count": 16,
   "metadata": {},
   "outputs": [],
   "source": [
    "tensorboards = []\n",
    "for i in range(10):\n",
    "    name = \"mnist_cnn_\" + str((i+1)*10)\n",
    "    \n",
    "    tensorboards.append(TensorBoard(log_dir=\"logs/{}\".format(name)))"
   ]
  },
  {
   "cell_type": "code",
   "execution_count": 17,
   "metadata": {},
   "outputs": [],
   "source": [
    "model.compile(optimizer='adam', loss='categorical_crossentropy', metrics=['accuracy'])"
   ]
  },
  {
   "cell_type": "code",
   "execution_count": 18,
   "metadata": {
    "collapsed": true
   },
   "outputs": [
    {
     "name": "stdout",
     "output_type": "stream",
     "text": [
      "============== MODELO 0 ==============\n",
      "Train on 4900 samples, validate on 2100 samples\n",
      "Epoch 1/3\n",
      "4900/4900 - 3s - loss: 3.2724 - accuracy: 0.8086 - val_loss: 0.5138 - val_accuracy: 0.9105\n",
      "Epoch 2/3\n",
      "4900/4900 - 2s - loss: 0.2356 - accuracy: 0.9518 - val_loss: 0.4013 - val_accuracy: 0.9214\n",
      "Epoch 3/3\n",
      "4900/4900 - 3s - loss: 0.1813 - accuracy: 0.9598 - val_loss: 0.3347 - val_accuracy: 0.9343\n",
      "============== MODELO 1 ==============\n",
      "Train on 9800 samples, validate on 4200 samples\n",
      "Epoch 1/3\n",
      "9800/9800 - 5s - loss: 0.1999 - accuracy: 0.9541 - val_loss: 0.1653 - val_accuracy: 0.9569\n",
      "Epoch 2/3\n",
      "9800/9800 - 4s - loss: 0.0765 - accuracy: 0.9798 - val_loss: 0.1821 - val_accuracy: 0.9574\n",
      "Epoch 3/3\n",
      "9800/9800 - 5s - loss: 0.0458 - accuracy: 0.9860 - val_loss: 0.1705 - val_accuracy: 0.9624\n",
      "============== MODELO 2 ==============\n",
      "Train on 14700 samples, validate on 6300 samples\n",
      "Epoch 1/3\n",
      "14700/14700 - 7s - loss: 0.1106 - accuracy: 0.9725 - val_loss: 0.0905 - val_accuracy: 0.9760\n",
      "Epoch 2/3\n",
      "14700/14700 - 8s - loss: 0.0586 - accuracy: 0.9831 - val_loss: 0.1195 - val_accuracy: 0.9700\n",
      "Epoch 3/3\n",
      "14700/14700 - 9s - loss: 0.0322 - accuracy: 0.9890 - val_loss: 0.1056 - val_accuracy: 0.9775\n",
      "============== MODELO 3 ==============\n",
      "Train on 19600 samples, validate on 8400 samples\n",
      "Epoch 1/3\n",
      "19600/19600 - 11s - loss: 0.0749 - accuracy: 0.9799 - val_loss: 0.0677 - val_accuracy: 0.9801\n",
      "Epoch 2/3\n",
      "19600/19600 - 10s - loss: 0.0385 - accuracy: 0.9884 - val_loss: 0.0713 - val_accuracy: 0.9818\n",
      "Epoch 3/3\n",
      "19600/19600 - 10s - loss: 0.0327 - accuracy: 0.9903 - val_loss: 0.0674 - val_accuracy: 0.9860\n",
      "============== MODELO 4 ==============\n",
      "Train on 24500 samples, validate on 10500 samples\n",
      "Epoch 1/3\n",
      "24500/24500 - 12s - loss: 0.0628 - accuracy: 0.9820 - val_loss: 0.0487 - val_accuracy: 0.9858\n",
      "Epoch 2/3\n",
      "24500/24500 - 12s - loss: 0.0316 - accuracy: 0.9899 - val_loss: 0.0542 - val_accuracy: 0.9853\n",
      "Epoch 3/3\n",
      "24500/24500 - 13s - loss: 0.0309 - accuracy: 0.9902 - val_loss: 0.0676 - val_accuracy: 0.9830\n",
      "============== MODELO 5 ==============\n",
      "Train on 29400 samples, validate on 12600 samples\n",
      "Epoch 1/3\n",
      "29400/29400 - 14s - loss: 0.0548 - accuracy: 0.9848 - val_loss: 0.0708 - val_accuracy: 0.9810\n",
      "Epoch 2/3\n",
      "29400/29400 - 14s - loss: 0.0324 - accuracy: 0.9900 - val_loss: 0.0473 - val_accuracy: 0.9879\n",
      "Epoch 3/3\n",
      "29400/29400 - 15s - loss: 0.0281 - accuracy: 0.9919 - val_loss: 0.0787 - val_accuracy: 0.9813\n",
      "============== MODELO 6 ==============\n",
      "Train on 34300 samples, validate on 14700 samples\n",
      "Epoch 1/3\n",
      "34300/34300 - 17s - loss: 0.0511 - accuracy: 0.9868 - val_loss: 0.0562 - val_accuracy: 0.9848\n",
      "Epoch 2/3\n",
      "34300/34300 - 18s - loss: 0.0262 - accuracy: 0.9925 - val_loss: 0.0517 - val_accuracy: 0.9884\n",
      "Epoch 3/3\n",
      "34300/34300 - 18s - loss: 0.0228 - accuracy: 0.9933 - val_loss: 0.0597 - val_accuracy: 0.9865\n",
      "============== MODELO 7 ==============\n",
      "Train on 39200 samples, validate on 16800 samples\n",
      "Epoch 1/3\n",
      "39200/39200 - 20s - loss: 0.0486 - accuracy: 0.9870 - val_loss: 0.0445 - val_accuracy: 0.9879\n",
      "Epoch 2/3\n",
      "39200/39200 - 21s - loss: 0.0233 - accuracy: 0.9931 - val_loss: 0.0452 - val_accuracy: 0.9880\n",
      "Epoch 3/3\n",
      "39200/39200 - 20s - loss: 0.0278 - accuracy: 0.9924 - val_loss: 0.0654 - val_accuracy: 0.9853\n",
      "============== MODELO 8 ==============\n",
      "Train on 44100 samples, validate on 18900 samples\n",
      "Epoch 1/3\n",
      "44100/44100 - 20s - loss: 0.0399 - accuracy: 0.9899 - val_loss: 0.0497 - val_accuracy: 0.9878\n",
      "Epoch 2/3\n",
      "44100/44100 - 22s - loss: 0.0257 - accuracy: 0.9931 - val_loss: 0.0513 - val_accuracy: 0.9877\n",
      "Epoch 3/3\n",
      "44100/44100 - 24s - loss: 0.0217 - accuracy: 0.9939 - val_loss: 0.0584 - val_accuracy: 0.9881\n",
      "============== MODELO 9 ==============\n",
      "Train on 49000 samples, validate on 21000 samples\n",
      "Epoch 1/3\n",
      "49000/49000 - 27s - loss: 0.0342 - accuracy: 0.9917 - val_loss: 0.0257 - val_accuracy: 0.9938\n",
      "Epoch 2/3\n",
      "49000/49000 - 25s - loss: 0.0230 - accuracy: 0.9939 - val_loss: 0.0357 - val_accuracy: 0.9907\n",
      "Epoch 3/3\n",
      "49000/49000 - 26s - loss: 0.0227 - accuracy: 0.9942 - val_loss: 0.0530 - val_accuracy: 0.9887\n"
     ]
    }
   ],
   "source": [
    "# Treina e testa (valida) o modelo para todos os cortes do dataset\n",
    "for i in range(10):\n",
    "    print(\"============== MODELO %d ==============\" % i)\n",
    "    model.fit(X_train[i],\n",
    "              y_train[i],\n",
    "              epochs=3,\n",
    "              verbose=2,\n",
    "              validation_data=(X_test[i], y_test[i]),\n",
    "              callbacks=[tensorboards[i]])"
   ]
  },
  {
   "cell_type": "markdown",
   "metadata": {},
   "source": [
    "## Resultados e gráficos\n",
    "Nesta seção, serão mostradas imagens de dados gerados com a ferramenta *tensorboard*, acionada no momento de treinamento do modelo. Essa decisão foi realizada com o objetivo de facilitar o acesso a tais dados, colocando-os no mesmo arquivo que o resto da atividade (este *notebook*). Porém, é possível acessar as informações e gráficos e interagir com eles por meio do seguinte passo a passo:\n",
    "* Abra um terminal no mesmo diretório dos arquivos deste trabalho\n",
    "* Digite o comando `tensorboard --logdir=logs/.`. Algo parecido com isso aparecerá:\n",
    "\n",
    "![response](img/response.png)\n",
    "\n",
    "* Em seguida, abra o *link* retornado pelo comando (`http://localhost:6006`).\n",
    "\n",
    "Com isso, os arquivos de relatório gerados pela ferramenta, presentes na pasta `logs` será aberto em uma aba no navegador, possibilitando visualizações melhores e interativas.\n",
    "\n",
    "As imagens conterão um gráfico com a evolução das acurácias do conjunto de treino e validação ao longo das 3 iterações *(epochs)*, assim como uma legenda contendo, em detalhes, os valores dessas métricas."
   ]
  },
  {
   "cell_type": "markdown",
   "metadata": {},
   "source": [
    "# Corte de 10%"
   ]
  },
  {
   "cell_type": "markdown",
   "metadata": {},
   "source": [
    "## *Epoch* 1"
   ]
  },
  {
   "cell_type": "markdown",
   "metadata": {},
   "source": [
    "![epoch1](img/model10_1.png)"
   ]
  },
  {
   "cell_type": "markdown",
   "metadata": {},
   "source": [
    "## *Epoch* 2"
   ]
  },
  {
   "cell_type": "markdown",
   "metadata": {},
   "source": [
    "![epoch2](img/model10_2.png)"
   ]
  },
  {
   "cell_type": "markdown",
   "metadata": {},
   "source": [
    "##  *Epoch* 3"
   ]
  },
  {
   "cell_type": "markdown",
   "metadata": {},
   "source": [
    "![epoch3](img/model10_3.png)"
   ]
  },
  {
   "cell_type": "markdown",
   "metadata": {},
   "source": [
    "# Corte de 20%"
   ]
  },
  {
   "cell_type": "markdown",
   "metadata": {},
   "source": [
    "## *Epoch* 1"
   ]
  },
  {
   "cell_type": "markdown",
   "metadata": {},
   "source": [
    "![epoch1](img/model20_1.png)"
   ]
  },
  {
   "cell_type": "markdown",
   "metadata": {},
   "source": [
    "## *Epoch* 2"
   ]
  },
  {
   "cell_type": "markdown",
   "metadata": {},
   "source": [
    "![epoch2](img/model20_2.png)"
   ]
  },
  {
   "cell_type": "markdown",
   "metadata": {},
   "source": [
    "##  *Epoch* 3"
   ]
  },
  {
   "cell_type": "markdown",
   "metadata": {},
   "source": [
    "![epoch3](img/model20_3.png)"
   ]
  }
 ],
 "metadata": {
  "kernelspec": {
   "display_name": "Python 3.7.6 64-bit ('base': conda)",
   "language": "python",
   "name": "python37664bitbaseconda1396f5dd0753419f96fe7856bd455978"
  },
  "language_info": {
   "codemirror_mode": {
    "name": "ipython",
    "version": 3
   },
   "file_extension": ".py",
   "mimetype": "text/x-python",
   "name": "python",
   "nbconvert_exporter": "python",
   "pygments_lexer": "ipython3",
   "version": "3.7.6"
  }
 },
 "nbformat": 4,
 "nbformat_minor": 4
}
